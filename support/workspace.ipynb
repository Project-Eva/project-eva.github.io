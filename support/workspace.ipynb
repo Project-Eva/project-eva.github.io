{
 "metadata": {
  "language_info": {
   "codemirror_mode": {
    "name": "ipython",
    "version": 3
   },
   "file_extension": ".py",
   "mimetype": "text/x-python",
   "name": "python",
   "nbconvert_exporter": "python",
   "pygments_lexer": "ipython3",
   "version": "3.8.9"
  },
  "orig_nbformat": 2,
  "kernelspec": {
   "name": "python389jvsc74a57bd0f80b9b3349f05102126f8940cdd60462a73c6df43a88a28471c5d051ec413e18",
   "display_name": "Python 3.8.9 64-bit (windows store)"
  },
  "metadata": {
   "interpreter": {
    "hash": "f80b9b3349f05102126f8940cdd60462a73c6df43a88a28471c5d051ec413e18"
   }
  }
 },
 "nbformat": 4,
 "nbformat_minor": 2,
 "cells": [
  {
   "cell_type": "code",
   "execution_count": 2,
   "metadata": {},
   "outputs": [],
   "source": []
  },
  {
   "cell_type": "code",
   "execution_count": 122,
   "metadata": {},
   "outputs": [
    {
     "output_type": "execute_result",
     "data": {
      "text/plain": [
       "{'a': {'b': {'c': {'d': 'Hello'}}, 'e': {'f': 'World'}}}"
      ]
     },
     "metadata": {},
     "execution_count": 122
    }
   ],
   "source": [
    "bak = d.copy()\n",
    "bak"
   ]
  },
  {
   "cell_type": "code",
   "execution_count": 119,
   "metadata": {},
   "outputs": [],
   "source": [
    "def recDict(diction,path,newvalue):\n",
    "    if(str(type(path))!=\"<class 'list'>\"): path = path.split(\"/\")[::-1]\n",
    "\n",
    "    if(len(path)>1):\n",
    "        try:\n",
    "            #print(diction[path[-1]])\n",
    "            diction[path[-1]]=recDict(diction[path[-1]],path[:-1],newvalue)\n",
    "            return diction\n",
    "        except KeyError:\n",
    "            #print(diction[path[-1]])\n",
    "            diction[path[-1]]={}\n",
    "            diction[path[-1]]=recDict(diction[path[-1]],path[:-1],newvalue)\n",
    "            return diction\n",
    "    else:\n",
    "        diction[path[-1]]=newvalue\n",
    "        return diction"
   ]
  },
  {
   "cell_type": "code",
   "execution_count": 120,
   "metadata": {},
   "outputs": [
    {
     "output_type": "stream",
     "name": "stdout",
     "text": [
      "{'a': {'b': {'c': {'d': 'Hello'}}, 'e': {'f': 'World', 'c': {'d': 'World'}}}}\n"
     ]
    }
   ],
   "source": [
    "d = recDict(d,\"a/e/c/d\",\"World\")\n",
    "print(d)"
   ]
  },
  {
   "cell_type": "code",
   "execution_count": 106,
   "metadata": {},
   "outputs": [
    {
     "output_type": "stream",
     "name": "stdout",
     "text": [
      "{'a': {'b': {'c': {'d': 'Hello'}}, 'e': {'f': 'World', 'c': {'d': 'World'}}}}\n{'a': {'b': {'c': {'d': 'Hello'}}, 'e': {'f': 'World', 'c': {'d': 'World'}}}}\n"
     ]
    }
   ],
   "source": [
    "print(d)\n",
    "print(bak)"
   ]
  },
  {
   "cell_type": "code",
   "execution_count": 107,
   "metadata": {},
   "outputs": [
    {
     "output_type": "execute_result",
     "data": {
      "text/plain": [
       "'World'"
      ]
     },
     "metadata": {},
     "execution_count": 107
    }
   ],
   "source": [
    "d[\"a\"][\"e\"][\"c\"][\"d\"]"
   ]
  },
  {
   "cell_type": "code",
   "execution_count": 1,
   "metadata": {},
   "outputs": [],
   "source": [
    "d = {\n",
    "    \"a\":{\n",
    "        \"b\":{\n",
    "            \"c\":{\n",
    "                \"d\":\"Hello\"\n",
    "            }\n",
    "        },\n",
    "        \"e\":{\n",
    "            \"f\":\"World\"\n",
    "        }\n",
    "    }\n",
    "}"
   ]
  },
  {
   "cell_type": "code",
   "execution_count": 2,
   "metadata": {},
   "outputs": [],
   "source": [
    "from dictionary import *"
   ]
  },
  {
   "cell_type": "code",
   "execution_count": 3,
   "metadata": {},
   "outputs": [
    {
     "output_type": "execute_result",
     "data": {
      "text/plain": [
       "{'a': {'b': {'c': {'d': 'Anjitha is my'}}, 'e': {'f': 'World'}}}"
      ]
     },
     "metadata": {},
     "execution_count": 3
    }
   ],
   "source": [
    "d = Dictionary(d).updateValueAt(\"a/b/c/d\",\"Anjitha is my\")\n",
    "d.val()"
   ]
  },
  {
   "cell_type": "code",
   "execution_count": 5,
   "metadata": {},
   "outputs": [
    {
     "output_type": "execute_result",
     "data": {
      "text/plain": [
       "'Anjitha is my'"
      ]
     },
     "metadata": {},
     "execution_count": 5
    }
   ],
   "source": [
    "d.readValueAt(\"a/b/c/d\").val()"
   ]
  },
  {
   "cell_type": "code",
   "execution_count": 1,
   "metadata": {},
   "outputs": [],
   "source": [
    "from evafire import EvaFire"
   ]
  },
  {
   "cell_type": "code",
   "execution_count": 2,
   "metadata": {},
   "outputs": [],
   "source": [
    "Firebase = EvaFire()"
   ]
  },
  {
   "cell_type": "code",
   "execution_count": 4,
   "metadata": {},
   "outputs": [
    {
     "output_type": "execute_result",
     "data": {
      "text/plain": [
       "True"
      ]
     },
     "metadata": {},
     "execution_count": 4
    }
   ],
   "source": [
    "Firebase.network.state\n"
   ]
  },
  {
   "cell_type": "code",
   "execution_count": 6,
   "metadata": {},
   "outputs": [
    {
     "output_type": "execute_result",
     "data": {
      "text/plain": [
       "'XYZ12345'"
      ]
     },
     "metadata": {},
     "execution_count": 6
    }
   ],
   "source": [
    "Firebase.child(\"device-params/device-id\")"
   ]
  },
  {
   "cell_type": "code",
   "execution_count": 16,
   "metadata": {},
   "outputs": [],
   "source": [
    "Firebase.network.state=False\n",
    "Firebase.update(\"location\",\"homes\")"
   ]
  },
  {
   "cell_type": "code",
   "execution_count": 9,
   "metadata": {},
   "outputs": [],
   "source": [
    "import pyrebase\n",
    "import json\n",
    "auth = json.loads(open(\"auth.json\",\"r\").read())\n",
    "fb = pyrebase.initialize_app(auth)\n",
    "fb = fb.database()\n",
    "def pingBack():\n",
    "    fb.child(\"elvissample\").update({\"state\":\"Online\"})"
   ]
  },
  {
   "cell_type": "code",
   "execution_count": 10,
   "metadata": {},
   "outputs": [
    {
     "output_type": "execute_result",
     "data": {
      "text/plain": [
       "<pyrebase.pyrebase.Stream at 0x19a93591670>"
      ]
     },
     "metadata": {},
     "execution_count": 10
    }
   ],
   "source": [
    "fb.child(\"elvissample\").stream(pingBack)"
   ]
  },
  {
   "cell_type": "code",
   "execution_count": 1,
   "metadata": {},
   "outputs": [],
   "source": [
    "\n",
    "from RPiSim.GPIO import GPIO\n",
    "GPIO.setmode(GPIO.BCM)\n",
    "GPIO.setup(2, GPIO.OUT)\n",
    "GPIO.output(2,GPIO.HIGH)\n",
    "\n",
    "print(GPIO.input(2)"
   ]
  },
  {
   "cell_type": "code",
   "execution_count": null,
   "metadata": {},
   "outputs": [],
   "source": []
  }
 ]
}